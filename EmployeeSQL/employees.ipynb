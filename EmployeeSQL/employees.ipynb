{
 "cells": [
  {
   "cell_type": "code",
   "execution_count": 17,
   "metadata": {},
   "outputs": [],
   "source": [
    "# Pandas\n",
    "import pandas as pd\n"
   ]
  },
  {
   "cell_type": "code",
   "execution_count": 18,
   "metadata": {},
   "outputs": [
    {
     "output_type": "execute_result",
     "data": {
      "text/plain": "   emp_no  salary\n0   10001   60117\n1   10002   65828\n2   10003   40006\n3   10004   40054\n4   10005   78228",
      "text/html": "<div>\n<style scoped>\n    .dataframe tbody tr th:only-of-type {\n        vertical-align: middle;\n    }\n\n    .dataframe tbody tr th {\n        vertical-align: top;\n    }\n\n    .dataframe thead th {\n        text-align: right;\n    }\n</style>\n<table border=\"1\" class=\"dataframe\">\n  <thead>\n    <tr style=\"text-align: right;\">\n      <th></th>\n      <th>emp_no</th>\n      <th>salary</th>\n    </tr>\n  </thead>\n  <tbody>\n    <tr>\n      <th>0</th>\n      <td>10001</td>\n      <td>60117</td>\n    </tr>\n    <tr>\n      <th>1</th>\n      <td>10002</td>\n      <td>65828</td>\n    </tr>\n    <tr>\n      <th>2</th>\n      <td>10003</td>\n      <td>40006</td>\n    </tr>\n    <tr>\n      <th>3</th>\n      <td>10004</td>\n      <td>40054</td>\n    </tr>\n    <tr>\n      <th>4</th>\n      <td>10005</td>\n      <td>78228</td>\n    </tr>\n  </tbody>\n</table>\n</div>"
     },
     "metadata": {},
     "execution_count": 18
    }
   ],
   "source": [
    "# The path to our CSV file\n",
    "file = \"EmployeeSQL/data/salaries.csv\"\n",
    "\n",
    "# Read our Kickstarter data into pandas\n",
    "salaries_df = pd.read_csv(file)\n",
    "# Read our Kickstarter data into pandas\n",
    "salaries_df.head()"
   ]
  },
  {
   "cell_type": "code",
   "execution_count": 19,
   "metadata": {},
   "outputs": [
    {
     "output_type": "execute_result",
     "data": {
      "text/plain": "300024"
     },
     "metadata": {},
     "execution_count": 19
    }
   ],
   "source": [
    "len(salaries_df)"
   ]
  },
  {
   "cell_type": "code",
   "execution_count": 20,
   "metadata": {},
   "outputs": [
    {
     "output_type": "execute_result",
     "data": {
      "text/plain": "300024"
     },
     "metadata": {},
     "execution_count": 20
    }
   ],
   "source": [
    "salaries_df.emp_no.nunique()"
   ]
  },
  {
   "cell_type": "code",
   "execution_count": 31,
   "metadata": {},
   "outputs": [
    {
     "output_type": "execute_result",
     "data": {
      "text/plain": "   emp_no dept_no\n0   10001    d005\n1   10002    d007\n2   10003    d004\n3   10004    d004\n4   10005    d003",
      "text/html": "<div>\n<style scoped>\n    .dataframe tbody tr th:only-of-type {\n        vertical-align: middle;\n    }\n\n    .dataframe tbody tr th {\n        vertical-align: top;\n    }\n\n    .dataframe thead th {\n        text-align: right;\n    }\n</style>\n<table border=\"1\" class=\"dataframe\">\n  <thead>\n    <tr style=\"text-align: right;\">\n      <th></th>\n      <th>emp_no</th>\n      <th>dept_no</th>\n    </tr>\n  </thead>\n  <tbody>\n    <tr>\n      <th>0</th>\n      <td>10001</td>\n      <td>d005</td>\n    </tr>\n    <tr>\n      <th>1</th>\n      <td>10002</td>\n      <td>d007</td>\n    </tr>\n    <tr>\n      <th>2</th>\n      <td>10003</td>\n      <td>d004</td>\n    </tr>\n    <tr>\n      <th>3</th>\n      <td>10004</td>\n      <td>d004</td>\n    </tr>\n    <tr>\n      <th>4</th>\n      <td>10005</td>\n      <td>d003</td>\n    </tr>\n  </tbody>\n</table>\n</div>"
     },
     "metadata": {},
     "execution_count": 31
    }
   ],
   "source": [
    "# The path to our CSV file\n",
    "empdepfile = \"EmployeeSQL/data/dept_emp.csv\"\n",
    "\n",
    "# Read our Kickstarter data into pandas\n",
    "emp_dep_df = pd.read_csv(empdepfile)\n",
    "# Read our Kickstarter data into pandas\n",
    "emp_dep_df.head()"
   ]
  },
  {
   "cell_type": "code",
   "execution_count": 32,
   "metadata": {},
   "outputs": [
    {
     "output_type": "execute_result",
     "data": {
      "text/plain": "331603"
     },
     "metadata": {},
     "execution_count": 32
    }
   ],
   "source": [
    "len(emp_dep_df)"
   ]
  },
  {
   "cell_type": "code",
   "execution_count": 33,
   "metadata": {},
   "outputs": [
    {
     "output_type": "execute_result",
     "data": {
      "text/plain": "300024"
     },
     "metadata": {},
     "execution_count": 33
    }
   ],
   "source": [
    "emp_dep_df.emp_no.nunique()"
   ]
  },
  {
   "cell_type": "code",
   "execution_count": 34,
   "metadata": {},
   "outputs": [
    {
     "output_type": "execute_result",
     "data": {
      "text/plain": "  dept_no  emp_no\n0    d001  110022\n1    d001  110039\n2    d002  110085\n3    d002  110114\n4    d003  110183",
      "text/html": "<div>\n<style scoped>\n    .dataframe tbody tr th:only-of-type {\n        vertical-align: middle;\n    }\n\n    .dataframe tbody tr th {\n        vertical-align: top;\n    }\n\n    .dataframe thead th {\n        text-align: right;\n    }\n</style>\n<table border=\"1\" class=\"dataframe\">\n  <thead>\n    <tr style=\"text-align: right;\">\n      <th></th>\n      <th>dept_no</th>\n      <th>emp_no</th>\n    </tr>\n  </thead>\n  <tbody>\n    <tr>\n      <th>0</th>\n      <td>d001</td>\n      <td>110022</td>\n    </tr>\n    <tr>\n      <th>1</th>\n      <td>d001</td>\n      <td>110039</td>\n    </tr>\n    <tr>\n      <th>2</th>\n      <td>d002</td>\n      <td>110085</td>\n    </tr>\n    <tr>\n      <th>3</th>\n      <td>d002</td>\n      <td>110114</td>\n    </tr>\n    <tr>\n      <th>4</th>\n      <td>d003</td>\n      <td>110183</td>\n    </tr>\n  </tbody>\n</table>\n</div>"
     },
     "metadata": {},
     "execution_count": 34
    }
   ],
   "source": [
    "# The path to our CSV file\n",
    "depmgrfile = \"EmployeeSQL/data/dept_manager.csv\"\n",
    "\n",
    "# Read our Kickstarter data into pandas\n",
    "dep_mgr_df = pd.read_csv(depmgrfile)\n",
    "# Read our Kickstarter data into pandas\n",
    "dep_mgr_df.head()"
   ]
  },
  {
   "cell_type": "code",
   "execution_count": 38,
   "metadata": {},
   "outputs": [
    {
     "output_type": "execute_result",
     "data": {
      "text/plain": "24"
     },
     "metadata": {},
     "execution_count": 38
    }
   ],
   "source": [
    "len(dep_mgr_df)"
   ]
  },
  {
   "cell_type": "code",
   "execution_count": 39,
   "metadata": {},
   "outputs": [
    {
     "output_type": "execute_result",
     "data": {
      "text/plain": "24"
     },
     "metadata": {},
     "execution_count": 39
    }
   ],
   "source": [
    "dep_mgr_df.emp_no.nunique()"
   ]
  },
  {
   "cell_type": "code",
   "execution_count": null,
   "metadata": {},
   "outputs": [],
   "source": []
  }
 ],
 "metadata": {
  "language_info": {
   "codemirror_mode": {
    "name": "ipython",
    "version": 3
   },
   "file_extension": ".py",
   "mimetype": "text/x-python",
   "name": "python",
   "nbconvert_exporter": "python",
   "pygments_lexer": "ipython3",
   "version": "3.7.6-final"
  },
  "orig_nbformat": 2,
  "kernelspec": {
   "name": "python3",
   "display_name": "Python 3"
  }
 },
 "nbformat": 4,
 "nbformat_minor": 2
}